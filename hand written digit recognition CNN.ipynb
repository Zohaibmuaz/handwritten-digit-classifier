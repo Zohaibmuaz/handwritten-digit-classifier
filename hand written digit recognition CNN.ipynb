{
 "cells": [
  {
   "cell_type": "code",
   "execution_count": 85,
   "metadata": {},
   "outputs": [],
   "source": [
    "import numpy as np\n",
    "import tensorflow as tf\n",
    "from tensorflow.keras.layers import Dense,Conv2D,Flatten,MaxPooling2D,Dropout\n",
    "from tensorflow.keras.models import Sequential\n",
    "from tensorflow.keras.utils import to_categorical\n",
    "from sklearn.model_selection import train_test_split\n",
    "from sklearn.metrics import accuracy_score\n",
    "import matplotlib.pyplot as plt\n"
   ]
  },
  {
   "cell_type": "code",
   "execution_count": 65,
   "metadata": {},
   "outputs": [],
   "source": [
    "data = np.load(\"handwritten_digits.npz\")"
   ]
  },
  {
   "cell_type": "code",
   "execution_count": 66,
   "metadata": {},
   "outputs": [],
   "source": [
    "x = data['x']\n",
    "y = data['y']"
   ]
  },
  {
   "cell_type": "code",
   "execution_count": 67,
   "metadata": {},
   "outputs": [],
   "source": [
    "x = x / 255.0"
   ]
  },
  {
   "cell_type": "code",
   "execution_count": 68,
   "metadata": {},
   "outputs": [],
   "source": [
    "y = to_categorical(y-1)"
   ]
  },
  {
   "cell_type": "code",
   "execution_count": 69,
   "metadata": {},
   "outputs": [],
   "source": [
    "x_train,x_test,y_train,y_test = train_test_split(x,y,test_size=0.1,random_state=42)\n"
   ]
  },
  {
   "cell_type": "code",
   "execution_count": 70,
   "metadata": {},
   "outputs": [],
   "source": [
    "x_train = x_train.reshape(-1,28,28,1)\n",
    "x_test = x_test.reshape(-1,28,28,1)"
   ]
  },
  {
   "cell_type": "code",
   "execution_count": 71,
   "metadata": {},
   "outputs": [],
   "source": [
    "model = Sequential(\n",
    "    [\n",
    "        Conv2D(filters = 32,kernel_size=(3,3),strides= (1,1), padding= 'same', activation='relu'),\n",
    "        MaxPooling2D((2,2)),\n",
    "        Conv2D(filters = 64,kernel_size=(3,3),strides= (1,1), padding= 'same', activation='relu'),\n",
    "        MaxPooling2D((2,2)),\n",
    "        Conv2D(filters = 128,kernel_size=(3,3),strides= (1,1), padding= 'same', activation='relu'),\n",
    "        MaxPooling2D((2,2)),\n",
    "        Flatten(),\n",
    "        Dense(128,activation='relu'),\n",
    "        Dense(9,activation='softmax')\n",
    "    ]\n",
    ")"
   ]
  },
  {
   "cell_type": "code",
   "execution_count": 72,
   "metadata": {},
   "outputs": [],
   "source": [
    "model.compile(optimizer='Adam',loss= 'categorical_crossentropy',metrics = ['accuracy'])"
   ]
  },
  {
   "cell_type": "code",
   "execution_count": 73,
   "metadata": {},
   "outputs": [
    {
     "name": "stdout",
     "output_type": "stream",
     "text": [
      "Epoch 1/10\n",
      "\u001b[1m141/141\u001b[0m \u001b[32m━━━━━━━━━━━━━━━━━━━━\u001b[0m\u001b[37m\u001b[0m \u001b[1m4s\u001b[0m 16ms/step - accuracy: 0.6085 - loss: 1.2145 - val_accuracy: 0.9260 - val_loss: 0.2351\n",
      "Epoch 2/10\n",
      "\u001b[1m141/141\u001b[0m \u001b[32m━━━━━━━━━━━━━━━━━━━━\u001b[0m\u001b[37m\u001b[0m \u001b[1m2s\u001b[0m 13ms/step - accuracy: 0.9549 - loss: 0.1415 - val_accuracy: 0.9420 - val_loss: 0.1464\n",
      "Epoch 3/10\n",
      "\u001b[1m141/141\u001b[0m \u001b[32m━━━━━━━━━━━━━━━━━━━━\u001b[0m\u001b[37m\u001b[0m \u001b[1m2s\u001b[0m 13ms/step - accuracy: 0.9780 - loss: 0.0768 - val_accuracy: 0.9500 - val_loss: 0.1330\n",
      "Epoch 4/10\n",
      "\u001b[1m141/141\u001b[0m \u001b[32m━━━━━━━━━━━━━━━━━━━━\u001b[0m\u001b[37m\u001b[0m \u001b[1m2s\u001b[0m 15ms/step - accuracy: 0.9833 - loss: 0.0486 - val_accuracy: 0.9640 - val_loss: 0.1008\n",
      "Epoch 5/10\n",
      "\u001b[1m141/141\u001b[0m \u001b[32m━━━━━━━━━━━━━━━━━━━━\u001b[0m\u001b[37m\u001b[0m \u001b[1m2s\u001b[0m 14ms/step - accuracy: 0.9883 - loss: 0.0368 - val_accuracy: 0.9700 - val_loss: 0.0896\n",
      "Epoch 6/10\n",
      "\u001b[1m141/141\u001b[0m \u001b[32m━━━━━━━━━━━━━━━━━━━━\u001b[0m\u001b[37m\u001b[0m \u001b[1m2s\u001b[0m 15ms/step - accuracy: 0.9926 - loss: 0.0260 - val_accuracy: 0.9540 - val_loss: 0.1560\n",
      "Epoch 7/10\n",
      "\u001b[1m141/141\u001b[0m \u001b[32m━━━━━━━━━━━━━━━━━━━━\u001b[0m\u001b[37m\u001b[0m \u001b[1m2s\u001b[0m 15ms/step - accuracy: 0.9974 - loss: 0.0084 - val_accuracy: 0.9680 - val_loss: 0.1048\n",
      "Epoch 8/10\n",
      "\u001b[1m141/141\u001b[0m \u001b[32m━━━━━━━━━━━━━━━━━━━━\u001b[0m\u001b[37m\u001b[0m \u001b[1m2s\u001b[0m 15ms/step - accuracy: 0.9961 - loss: 0.0104 - val_accuracy: 0.9420 - val_loss: 0.1919\n",
      "Epoch 9/10\n",
      "\u001b[1m141/141\u001b[0m \u001b[32m━━━━━━━━━━━━━━━━━━━━\u001b[0m\u001b[37m\u001b[0m \u001b[1m2s\u001b[0m 15ms/step - accuracy: 0.9880 - loss: 0.0365 - val_accuracy: 0.9720 - val_loss: 0.0963\n",
      "Epoch 10/10\n",
      "\u001b[1m141/141\u001b[0m \u001b[32m━━━━━━━━━━━━━━━━━━━━\u001b[0m\u001b[37m\u001b[0m \u001b[1m2s\u001b[0m 15ms/step - accuracy: 0.9976 - loss: 0.0084 - val_accuracy: 0.9700 - val_loss: 0.1074\n"
     ]
    },
    {
     "data": {
      "text/plain": [
       "<keras.src.callbacks.history.History at 0x20a00c0f0e0>"
      ]
     },
     "execution_count": 73,
     "metadata": {},
     "output_type": "execute_result"
    }
   ],
   "source": [
    "model.fit(x_train,y_train,epochs=10,validation_data=(x_test,y_test))"
   ]
  },
  {
   "cell_type": "code",
   "execution_count": 75,
   "metadata": {},
   "outputs": [
    {
     "name": "stdout",
     "output_type": "stream",
     "text": [
      "\u001b[1m16/16\u001b[0m \u001b[32m━━━━━━━━━━━━━━━━━━━━\u001b[0m\u001b[37m\u001b[0m \u001b[1m0s\u001b[0m 5ms/step\n"
     ]
    }
   ],
   "source": [
    "y_pred = model.predict(x_test)"
   ]
  },
  {
   "cell_type": "code",
   "execution_count": 76,
   "metadata": {},
   "outputs": [],
   "source": [
    "predicted_classes = np.argmax(y_pred, axis=1)"
   ]
  },
  {
   "cell_type": "code",
   "execution_count": 77,
   "metadata": {},
   "outputs": [],
   "source": [
    "true_classes = np.argmax(y_test, axis=1)"
   ]
  },
  {
   "cell_type": "code",
   "execution_count": 78,
   "metadata": {},
   "outputs": [
    {
     "data": {
      "text/plain": [
       "array([1, 0, 4, 8, 8, 7, 3, 5, 0, 3, 0, 7, 7, 3, 8, 8, 6, 8, 7, 6, 6, 6,\n",
       "       4, 4, 7, 2, 6, 2, 2, 5, 1, 1, 2, 4, 0, 3, 3, 7, 1, 7, 0, 7, 3, 5,\n",
       "       8, 1, 5, 3, 5, 0, 7, 8, 7, 1, 8, 4, 4, 7, 0, 5, 3, 1, 6, 0, 8, 8,\n",
       "       0, 2, 0, 7, 5, 2, 4, 0, 4, 4, 1, 0, 5, 0, 4, 2, 3, 1, 7, 7, 8, 8,\n",
       "       5, 1, 4, 5, 4, 7, 1, 2, 6, 2, 2, 1, 8, 3, 2, 2, 8, 2, 2, 6, 2, 0,\n",
       "       6, 1, 7, 6, 1, 7, 1, 5, 5, 7, 4, 6, 1, 6, 0, 1, 0, 4, 7, 6, 3, 7,\n",
       "       1, 3, 5, 8, 8, 2, 6, 6, 1, 6, 5, 5, 7, 8, 6, 3, 5, 7, 4, 1, 2, 1,\n",
       "       0, 8, 2, 8, 3, 6, 7, 7, 3, 1, 8, 3, 3, 6, 0, 1, 4, 6, 6, 5, 1, 7,\n",
       "       5, 1, 3, 6, 7, 3, 5, 6, 7, 0, 3, 7, 8, 1, 5, 7, 7, 0, 6, 5, 3, 3,\n",
       "       4, 3, 3, 5, 2, 4, 5, 4, 4, 8, 4, 2, 5, 2, 5, 1, 4, 4, 7, 6, 6, 3,\n",
       "       4, 4, 0, 1, 6, 6, 1, 1, 2, 6, 5, 4, 4, 7, 1, 8, 1, 5, 0, 0, 1, 0,\n",
       "       1, 7, 6, 1, 4, 0, 0, 1, 4, 8, 2, 2, 2, 6, 2, 4, 5, 2, 0, 6, 5, 4,\n",
       "       3, 4, 1, 7, 6, 0, 7, 6, 4, 3, 6, 6, 0, 4, 4, 8, 8, 3, 6, 6, 4, 4,\n",
       "       2, 0, 0, 8, 4, 1, 7, 5, 1, 0, 6, 3, 4, 5, 0, 6, 3, 5, 5, 0, 0, 1,\n",
       "       5, 6, 2, 7, 0, 4, 1, 5, 8, 1, 1, 0, 3, 4, 5, 8, 2, 1, 0, 3, 7, 8,\n",
       "       3, 1, 6, 5, 8, 1, 0, 0, 4, 6, 0, 1, 8, 3, 3, 0, 2, 5, 0, 5, 1, 5,\n",
       "       3, 1, 4, 5, 2, 6, 4, 1, 7, 6, 6, 7, 8, 8, 6, 3, 7, 7, 2, 2, 0, 5,\n",
       "       5, 3, 8, 2, 5, 3, 3, 1, 3, 2, 4, 5, 2, 2, 4, 4, 8, 6, 8, 6, 6, 2,\n",
       "       0, 8, 8, 7, 7, 7, 5, 8, 7, 4, 8, 7, 1, 3, 7, 3, 4, 2, 5, 8, 6, 2,\n",
       "       7, 2, 8, 1, 1, 8, 0, 0, 3, 3, 5, 6, 1, 2, 3, 7, 5, 5, 5, 2, 2, 7,\n",
       "       2, 1, 1, 0, 6, 7, 1, 6, 5, 5, 0, 1, 4, 4, 6, 7, 6, 8, 0, 0, 4, 8,\n",
       "       8, 4, 3, 4, 8, 7, 2, 0, 8, 8, 8, 3, 6, 5, 3, 4, 7, 3, 2, 3, 6, 3,\n",
       "       2, 3, 2, 5, 6, 0, 5, 1, 5, 0, 1, 3, 6, 5, 3, 0], dtype=int64)"
      ]
     },
     "execution_count": 78,
     "metadata": {},
     "output_type": "execute_result"
    }
   ],
   "source": [
    "predicted_classes"
   ]
  },
  {
   "cell_type": "code",
   "execution_count": 79,
   "metadata": {},
   "outputs": [
    {
     "data": {
      "text/plain": [
       "array([1, 0, 4, 8, 8, 7, 3, 5, 0, 3, 0, 7, 7, 3, 8, 8, 6, 8, 7, 6, 6, 6,\n",
       "       4, 4, 7, 2, 6, 2, 2, 5, 1, 1, 2, 4, 0, 3, 3, 7, 1, 7, 0, 7, 3, 5,\n",
       "       8, 1, 5, 3, 5, 0, 7, 8, 7, 1, 8, 4, 4, 7, 0, 5, 8, 1, 6, 0, 8, 8,\n",
       "       0, 2, 0, 7, 5, 2, 4, 0, 4, 4, 1, 0, 5, 0, 4, 2, 3, 1, 7, 7, 8, 8,\n",
       "       5, 1, 4, 5, 4, 7, 1, 2, 6, 2, 2, 1, 8, 3, 2, 2, 8, 2, 2, 6, 2, 0,\n",
       "       6, 1, 7, 6, 1, 7, 1, 5, 5, 7, 4, 6, 1, 4, 0, 1, 0, 4, 7, 6, 3, 7,\n",
       "       1, 3, 5, 8, 8, 2, 6, 6, 1, 6, 5, 5, 7, 8, 6, 3, 5, 7, 4, 2, 2, 1,\n",
       "       0, 8, 2, 8, 3, 6, 7, 7, 3, 1, 8, 3, 3, 6, 0, 1, 4, 6, 6, 5, 1, 7,\n",
       "       5, 1, 3, 6, 7, 3, 5, 6, 1, 0, 3, 7, 8, 1, 5, 7, 7, 0, 6, 5, 3, 3,\n",
       "       4, 6, 3, 5, 2, 4, 5, 4, 4, 8, 4, 2, 5, 2, 4, 1, 4, 4, 7, 6, 6, 3,\n",
       "       4, 4, 0, 1, 6, 6, 1, 1, 2, 6, 5, 4, 4, 7, 2, 8, 1, 5, 0, 0, 1, 0,\n",
       "       1, 7, 8, 1, 4, 0, 0, 1, 4, 8, 2, 2, 2, 6, 2, 4, 5, 2, 0, 6, 5, 4,\n",
       "       3, 4, 1, 7, 6, 0, 7, 6, 4, 3, 6, 6, 0, 4, 4, 8, 8, 3, 6, 6, 4, 4,\n",
       "       2, 0, 0, 8, 4, 1, 7, 5, 1, 0, 6, 3, 4, 5, 0, 6, 0, 5, 5, 7, 0, 1,\n",
       "       5, 6, 2, 7, 0, 4, 1, 5, 8, 1, 1, 0, 3, 4, 5, 8, 2, 1, 0, 3, 7, 8,\n",
       "       3, 1, 6, 5, 8, 1, 0, 0, 4, 6, 0, 1, 8, 3, 3, 0, 2, 5, 0, 5, 1, 5,\n",
       "       3, 1, 4, 5, 2, 6, 4, 1, 7, 6, 7, 7, 1, 8, 6, 3, 7, 7, 2, 2, 0, 5,\n",
       "       5, 3, 8, 2, 5, 3, 3, 1, 3, 2, 4, 5, 2, 2, 4, 4, 8, 6, 8, 6, 6, 2,\n",
       "       0, 8, 8, 7, 7, 7, 5, 8, 7, 4, 8, 7, 1, 3, 7, 3, 4, 2, 5, 8, 6, 2,\n",
       "       7, 2, 8, 1, 1, 8, 0, 0, 3, 3, 5, 6, 1, 2, 3, 7, 5, 5, 5, 2, 2, 7,\n",
       "       2, 1, 1, 0, 6, 7, 1, 6, 5, 5, 0, 1, 4, 4, 6, 7, 6, 8, 0, 0, 4, 8,\n",
       "       8, 4, 3, 4, 8, 7, 2, 0, 8, 8, 8, 3, 6, 4, 3, 4, 7, 3, 4, 3, 6, 3,\n",
       "       2, 3, 2, 5, 8, 0, 5, 1, 5, 0, 1, 3, 6, 5, 3, 0], dtype=int64)"
      ]
     },
     "execution_count": 79,
     "metadata": {},
     "output_type": "execute_result"
    }
   ],
   "source": [
    "true_classes"
   ]
  },
  {
   "cell_type": "code",
   "execution_count": 80,
   "metadata": {},
   "outputs": [
    {
     "data": {
      "text/plain": [
       "97.0"
      ]
     },
     "execution_count": 80,
     "metadata": {},
     "output_type": "execute_result"
    }
   ],
   "source": [
    "accuracy = accuracy_score(true_classes,predicted_classes)\n",
    "accuracy*100"
   ]
  },
  {
   "cell_type": "code",
   "execution_count": 96,
   "metadata": {},
   "outputs": [],
   "source": [
    "sample_index = np.random.choice(len(x_test))\n",
    "sample_image = x_test[sample_index]\n",
    "sample_label = np.argmax(y_test[sample_index])"
   ]
  },
  {
   "cell_type": "code",
   "execution_count": 97,
   "metadata": {},
   "outputs": [],
   "source": [
    "predicted_label = np.argmax(y_pred[sample_index])"
   ]
  },
  {
   "cell_type": "code",
   "execution_count": 98,
   "metadata": {},
   "outputs": [
    {
     "name": "stdout",
     "output_type": "stream",
     "text": [
      "Digit on picture = 5 and on sample label = 5\n"
     ]
    }
   ],
   "source": [
    "print(f\"Digit on picture = {predicted_label + 1} and on sample label = {sample_label + 1}\")"
   ]
  },
  {
   "cell_type": "code",
   "execution_count": 99,
   "metadata": {},
   "outputs": [
    {
     "data": {
      "image/png": "[encoded data removed]",
      "text/plain": [
       "<Figure size 640x480 with 1 Axes>"
      ]
     },
     "metadata": {},
     "output_type": "display_data"
    }
   ],
   "source": [
    "plt.imshow(sample_image,cmap=\"grey\")\n",
    "plt.title(f\"Predicted number by AI = {predicted_label+1}\")\n",
    "plt.show()"
   ]
  },
  {
   "cell_type": "code",
   "execution_count": null,
   "metadata": {},
   "outputs": [],
   "source": []
  }
 ],
 "metadata": {
  "kernelspec": {
   "display_name": "Python 3",
   "language": "python",
   "name": "python3"
  },
  "language_info": {
   "codemirror_mode": {
    "name": "ipython",
    "version": 3
   },
   "file_extension": ".py",
   "mimetype": "text/x-python",
   "name": "python",
   "nbconvert_exporter": "python",
   "pygments_lexer": "ipython3",
   "version": "3.12.1"
  }
 },
 "nbformat": 4,
 "nbformat_minor": 2
}
